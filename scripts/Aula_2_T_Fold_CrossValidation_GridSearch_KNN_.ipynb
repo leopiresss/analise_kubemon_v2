{
  "cells": [
    {
      "cell_type": "markdown",
      "metadata": {
        "id": "XxjDrcRJYyA2"
      },
      "source": [
        "Neste exemplo treinamos e avaliamos um modelo preditivo usando **T-fold-CrossValidation**, ou Validação Cruzada com T Pastas\n",
        "\n",
        "- técnica de aprendizagem usada: KNN (K-nearest Neighbors)\n",
        "- tarefa supervisionada: classificação de dígitos manuscritos\n",
        "- métricas de avaliação: taxa de acerto, precisão, revocação, f1 e matriz de confusão\n",
        "\n",
        "Importando os recursos necessários:\n",
        "- numpy: biblioteca numérica\n",
        "- sklearn: biblioteca de machine learning, em especial o KNN, as métricas de avaliação e o model_selection que nos permite executar validação cruzada"
      ]
    },
    {
      "cell_type": "code",
      "execution_count": 11,
      "metadata": {
        "id": "SmS-tOd6u9fO"
      },
      "outputs": [],
      "source": [
        "# Importa bibliotecas necessárias \n",
        "import numpy as np\n",
        "from sklearn.neighbors import KNeighborsClassifier\n",
        "from sklearn import model_selection\n",
        "from sklearn.metrics import confusion_matrix, precision_score, recall_score, f1_score\n",
        "from sklearn.datasets import load_digits"
      ]
    },
    {
      "cell_type": "markdown",
      "metadata": {
        "id": "LuQLGeQNWpME"
      },
      "source": [
        "Carregando a base de dados do problema, representada aqui por X e y, onde:\n",
        "- X: array contendo N instâncias com M atributos (atributos de entrada do problema)\n",
        "- y: array contendo o rótulo (atributo alvo) de cada instância em X\n"
      ]
    },
    {
      "cell_type": "code",
      "execution_count": 12,
      "metadata": {
        "colab": {
          "base_uri": "https://localhost:8080/"
        },
        "id": "ypO-BKeSWlhU",
        "outputId": "59bd86f2-1442-4001-884b-1ec7266fd956"
      },
      "outputs": [
        {
          "name": "stdout",
          "output_type": "stream",
          "text": [
            "✅ Dataset carregado de ../datasets/svm_integracao_teste.pkl\n",
            "\n",
            "📊 Informações do Dataset: svm_integracao_teste\n",
            "==================================================\n",
            "Nome do dataset: svm_integracao_teste\n",
            "X_train.shape: (32259, 48)\n",
            "X_val.shape: (24195, 48)\n",
            "X_test.shape: (24194, 48)\n",
            "y_train length: 32259\n",
            "y_val length: 24195\n",
            "y_test length: 24194\n",
            "X_train_scaled.shape: (32259, 48)\n",
            "X_val_scaled.shape: (24195, 48)\n",
            "X_test_scaled.shape: (24194, 48)\n",
            "Features count: 48\n",
            "Scaler type: PowerTransformer\n",
            "Classes mapping: {'interf': 0, 'normal': 1}\n",
            "==================================================\n",
            "Formato de X:  (32259, 48)\n",
            "Formato de y:  (32259,)\n"
          ]
        }
      ],
      "source": [
        "# Neste exemplo a base de dados digits é composto por 1.797 instâncias (N=1.797), imagens de tamanho 8x8\n",
        "# e cada instância é representada por um vetor de 64 atributos (M=64), sendo que cada atributo pode ter um valor entre 0 e 16 (valor do pixel)\n",
        "\n",
        "import pandas as pd\n",
        "import numpy as np\n",
        "import matplotlib.pyplot as plt\n",
        "import seaborn as sns\n",
        "import sys\n",
        "import os\n",
        "import warnings\n",
        "from  lib_classificador import UtilClassificadores\n",
        "from dataset_manager import DatasetManager\n",
        "dataset_manager = DatasetManager('svm')\n",
        "datasets = dataset_manager.carregar_dataset('../datasets/svm_integracao_teste.pkl')\n",
        "dataset_manager.imprimir_informacoes()\n",
        "\n",
        "\n",
        "X = datasets['X_train']\n",
        "y = datasets['y_train']\n",
        "print(\"Formato de X: \", X.shape)\n",
        "print(\"Formato de y: \", y.shape)\n",
        "\n"
      ]
    },
    {
      "cell_type": "code",
      "execution_count": 13,
      "metadata": {
        "colab": {
          "base_uri": "https://localhost:8080/"
        },
        "id": "1y1XJefTgljA",
        "outputId": "6a4e56b1-3ef1-4fac-8c1f-87acf74c2094"
      },
      "outputs": [
        {
          "name": "stdout",
          "output_type": "stream",
          "text": [
            "+-----------------+----------------+-------------------+------------------+---------------------+-----------+-----------------+----------------------------------------------------+---------------------+---------------------+---------------------+---------------------+---------------------+-------------------+------------------+-------------------+\n",
            "|   mean_fit_time |   std_fit_time |   mean_score_time |   std_score_time |   param_n_neighbors |   param_p | param_weights   | params                                             |   split0_test_score |   split1_test_score |   split2_test_score |   split3_test_score |   split4_test_score |   mean_test_score |   std_test_score |   rank_test_score |\n",
            "|-----------------+----------------+-------------------+------------------+---------------------+-----------+-----------------+----------------------------------------------------+---------------------+---------------------+---------------------+---------------------+---------------------+-------------------+------------------+-------------------|\n",
            "|       0.0181578 |    0.00363817  |       0.00217648  |      0.000191139 |                   1 |         1 | uniform         | {'n_neighbors': 1, 'p': 1, 'weights': 'uniform'}   |          nan        |          nan        |          nan        |          nan        |          nan        |        nan        |     nan          |                13 |\n",
            "|       0.019375  |    0.00249614  |       4.24609     |      0.332948    |                   1 |         1 | distance        | {'n_neighbors': 1, 'p': 1, 'weights': 'distance'}  |            0.624716 |            0.61025  |            0.623269 |            0.621823 |            0.611203 |          0.618252 |       0.00621971 |                 9 |\n",
            "|       0.019342  |    0.00182171  |       0.00228839  |      0.0005625   |                   1 |         2 | uniform         | {'n_neighbors': 1, 'p': 2, 'weights': 'uniform'}   |          nan        |          nan        |          nan        |          nan        |          nan        |        nan        |     nan          |                13 |\n",
            "|       0.0181015 |    0.00134594  |       0.848891    |      0.0297538   |                   1 |         2 | distance        | {'n_neighbors': 1, 'p': 2, 'weights': 'distance'}  |            0.61025  |            0.595164 |            0.606117 |            0.609423 |            0.596941 |          0.603579 |       0.00632414 |                12 |\n",
            "|       0.0190362 |    0.00118387  |       0.00199418  |      0.000519164 |                   3 |         1 | uniform         | {'n_neighbors': 3, 'p': 1, 'weights': 'uniform'}   |          nan        |          nan        |          nan        |          nan        |          nan        |        nan        |     nan          |                13 |\n",
            "|       0.0189124 |    0.00237466  |       4.01522     |      0.352533    |                   3 |         1 | distance        | {'n_neighbors': 3, 'p': 1, 'weights': 'distance'}  |            0.631329 |            0.624716 |            0.638768 |            0.627816 |            0.624638 |          0.629453 |       0.00526492 |                 5 |\n",
            "|       0.0161872 |    0.00118179  |       0.000929356 |      0.000665551 |                   3 |         2 | uniform         | {'n_neighbors': 3, 'p': 2, 'weights': 'uniform'}   |          nan        |          nan        |          nan        |          nan        |          nan        |        nan        |     nan          |                13 |\n",
            "|       0.0156302 |    0.00100256  |       0.934751    |      0.0711758   |                   3 |         2 | distance        | {'n_neighbors': 3, 'p': 2, 'weights': 'distance'}  |            0.613143 |            0.61087  |            0.621203 |            0.607357 |            0.613063 |          0.613127 |       0.00455214 |                11 |\n",
            "|       0.0129859 |    0.000955366 |       0.000933027 |      0.000486962 |                   5 |         1 | uniform         | {'n_neighbors': 5, 'p': 1, 'weights': 'uniform'}   |          nan        |          nan        |          nan        |          nan        |          nan        |        nan        |     nan          |                13 |\n",
            "|       0.0127486 |    0.000863945 |       4.19823     |      0.252808    |                   5 |         1 | distance        | {'n_neighbors': 5, 'p': 1, 'weights': 'distance'}  |            0.633602 |            0.639388 |            0.638148 |            0.633602 |            0.633526 |          0.635653 |       0.00257355 |                 4 |\n",
            "|       0.0202055 |    0.0138819   |       0.00172768  |      0.000752419 |                   5 |         2 | uniform         | {'n_neighbors': 5, 'p': 2, 'weights': 'uniform'}   |          nan        |          nan        |          nan        |          nan        |          nan        |        nan        |     nan          |                13 |\n",
            "|       0.0134118 |    0.000768713 |       0.766351    |      0.0892495   |                   5 |         2 | distance        | {'n_neighbors': 5, 'p': 2, 'weights': 'distance'}  |            0.61273  |            0.61521  |            0.623476 |            0.616656 |            0.612857 |          0.616186 |       0.00393312 |                10 |\n",
            "|       0.0170084 |    0.00520364  |       0.00104117  |      0.000642706 |                   7 |         1 | uniform         | {'n_neighbors': 7, 'p': 1, 'weights': 'uniform'}   |          nan        |          nan        |          nan        |          nan        |          nan        |        nan        |     nan          |                13 |\n",
            "|       0.0128099 |    0.000759165 |       3.68369     |      0.10906     |                   7 |         1 | distance        | {'n_neighbors': 7, 'p': 1, 'weights': 'distance'}  |            0.632982 |            0.639595 |            0.647448 |            0.637528 |            0.63952  |          0.639415 |       0.00468    |                 2 |\n",
            "|       0.0126552 |    0.000792789 |       0.000731421 |      0.000423297 |                   7 |         2 | uniform         | {'n_neighbors': 7, 'p': 2, 'weights': 'uniform'}   |          nan        |          nan        |          nan        |          nan        |          nan        |        nan        |     nan          |                13 |\n",
            "|       0.0124544 |    0.000737911 |       0.751036    |      0.0640085   |                   7 |         2 | distance        | {'n_neighbors': 7, 'p': 2, 'weights': 'distance'}  |            0.620583 |            0.61583  |            0.623476 |            0.615416 |            0.620091 |          0.619079 |       0.00305256 |                 8 |\n",
            "|       0.0164056 |    0.00561439  |       0.000892019 |      0.000230775 |                   9 |         1 | uniform         | {'n_neighbors': 9, 'p': 1, 'weights': 'uniform'}   |          nan        |          nan        |          nan        |          nan        |          nan        |        nan        |     nan          |                13 |\n",
            "|       0.0126218 |    0.000287623 |       3.36779     |      0.261292    |                   9 |         1 | distance        | {'n_neighbors': 9, 'p': 1, 'weights': 'distance'}  |            0.635255 |            0.638768 |            0.648894 |            0.636288 |            0.637867 |          0.639415 |       0.00489393 |                 3 |\n",
            "|       0.0141719 |    0.00183873  |       0.00142536  |      0.000584981 |                   9 |         2 | uniform         | {'n_neighbors': 9, 'p': 2, 'weights': 'uniform'}   |          nan        |          nan        |          nan        |          nan        |          nan        |        nan        |     nan          |                13 |\n",
            "|       0.0138413 |    0.000561643 |       0.786511    |      0.0699057   |                   9 |         2 | distance        | {'n_neighbors': 9, 'p': 2, 'weights': 'distance'}  |            0.620789 |            0.618723 |            0.628022 |            0.61645  |            0.624432 |          0.621683 |       0.00411558 |                 7 |\n",
            "|       0.0115429 |    0.00057825  |       0.00102968  |      0.000325229 |                  11 |         1 | uniform         | {'n_neighbors': 11, 'p': 1, 'weights': 'uniform'}  |          nan        |          nan        |          nan        |          nan        |          nan        |        nan        |     nan          |                13 |\n",
            "|       0.0132539 |    0.00156633  |       2.72994     |      0.075635    |                  11 |         1 | distance        | {'n_neighbors': 11, 'p': 1, 'weights': 'distance'} |            0.638562 |            0.639595 |            0.642901 |            0.642075 |            0.637247 |          0.640076 |       0.00212166 |                 1 |\n",
            "|       0.0134768 |    0.00112485  |       0.000719166 |      0.000407315 |                  11 |         2 | uniform         | {'n_neighbors': 11, 'p': 2, 'weights': 'uniform'}  |          nan        |          nan        |          nan        |          nan        |          nan        |        nan        |     nan          |                13 |\n",
            "|       0.0149721 |    0.00383323  |       0.659424    |      0.0086709   |                  11 |         2 | distance        | {'n_neighbors': 11, 'p': 2, 'weights': 'distance'} |            0.621203 |            0.622649 |            0.628642 |            0.620583 |            0.623398 |          0.623295 |       0.00285499 |                 6 |\n",
            "+-----------------+----------------+-------------------+------------------+---------------------+-----------+-----------------+----------------------------------------------------+---------------------+---------------------+---------------------+---------------------+---------------------+-------------------+------------------+-------------------+\n",
            "Melhores parâmetros encontrados:  {'n_neighbors': 11, 'p': 1, 'weights': 'distance'}\n"
          ]
        },
        {
          "name": "stderr",
          "output_type": "stream",
          "text": [
            "c:\\ProgramData\\anaconda3\\Lib\\site-packages\\sklearn\\model_selection\\_search.py:976: UserWarning: One or more of the test scores are non-finite: [       nan 0.61825217        nan 0.60357913        nan 0.62945338\n",
            "        nan 0.61312722        nan 0.63565338        nan 0.61618569\n",
            "        nan 0.63941474        nan 0.61907915        nan 0.63941467\n",
            "        nan 0.62168318        nan 0.64007593        nan 0.62329504]\n",
            "  warnings.warn(\n"
          ]
        }
      ],
      "source": [
        "# Usando o GridSearch para buscar os melhores parâmetros para nosso modelo\n",
        "from sklearn.model_selection import train_test_split, GridSearchCV\n",
        "\n",
        "# Separando da base original uma base de validação\n",
        "X, X_val, y, y_val = train_test_split(X,y, test_size=0.2, random_state=42, stratify=y)\n",
        "\n",
        "X = datasets['X_train']\n",
        "y = datasets['y_train']\n",
        "X_val = datasets['X_test']\n",
        "y_val = datasets['y_test']\n",
        "\n",
        "# Definindo a técnica a ser utilizada\n",
        "clf = KNeighborsClassifier()\n",
        "\n",
        "# parâmetros que o Gridsearch utilizará em sua busca\n",
        "parameters = [{'n_neighbors':[1,3,5,7,9,11], 'weights': ['uniform', 'distance'], 'p': [1,2]}]\n",
        "\n",
        "# Execução do Gridsearch \n",
        "gs=GridSearchCV(clf, parameters, scoring='accuracy', cv=5, n_jobs=-1)\n",
        "gs.fit(X_val, y_val)\n",
        "\n",
        "# Mostrando a tabela de resultados do GridSearch (opcional)\n",
        "from tabulate import tabulate\n",
        "import pandas as pd\n",
        "df=gs.cv_results_\n",
        "print(tabulate(df, headers='keys', tablefmt='psql'))\n",
        "print(\"Melhores parâmetros encontrados: \", gs.best_params_)\n",
        "\n",
        "# Recuperando os melhores resultados\n",
        "clf=gs.best_estimator_\n"
      ]
    },
    {
      "cell_type": "markdown",
      "metadata": {
        "id": "GoHd_-t7ddK8"
      },
      "source": [
        "Neste ponto definimos a técnica de Machine Learning a ser utilizada e treinamos o modelo usando Validação Cruzada. No exemplo, um classificador KNN onde K=3. Importante destacar que há no sklearn outros parâmetros do KNN que podemos explorar na busca por um modelo robusto. \n",
        "\n",
        "Observer que, diferente do HOLDOUT, não usamos a função *fit()* e sim *model_selection.cross_val_score()*. Esta função irá treinar T modelos. A cada iteração treina usando T-1 pastas e testa com uma delas. Troca a pasta de teste a cada iteração. Ao final fornece como resultado acurácia média + desvio padrão.\n",
        "\n",
        "OBS: protocolo muito mais robusto que o HOLDOUT, pois cada instância do problema será teste em alguma iteração."
      ]
    },
    {
      "cell_type": "code",
      "execution_count": 14,
      "metadata": {
        "id": "5sGXRIInYuUx"
      },
      "outputs": [],
      "source": [
        "\n",
        "# Usando a validação cruzada com 5 folds neste exemplo.\n",
        "T=5 # número de pastas ou folds\n",
        "result = model_selection.cross_val_score(clf, X, y, cv=T)\n"
      ]
    },
    {
      "cell_type": "markdown",
      "metadata": {
        "id": "mJpnX6Ase_FW"
      },
      "source": [
        "Avaliação do modelo abaixo:\n",
        "\n",
        "- A variável *result* que criamos anteriormente já tem a taxa de acerto média e desvio padrão calculadas pela função *model_selection.cross_val_score()*.\n",
        "\n",
        "- A função *model_selection.cross_val_predict()* retorna a classe para cada exemplo de teste.\n",
        "\n",
        "- A função *model_selection.cross_val_predict()* com parâmetro '*method=predict_proba*' retorna a probabilidade de cada classe para cada exemplo de teste.\n",
        "\n",
        "Considerando tp=true positivive, tn=true negative, fp=false positive, fn=false negative.\n",
        "\n",
        "- A função *precision_score()*: calcula tp / (tp + fp)\n",
        "\n",
        "- A função *recall_score()* calcula: tp / (tp + fn)\n",
        "\n",
        "- A função *f1_score()* calcula a média harmônica entre *precision* e *recall*.\n",
        "\n",
        "- A função *confusion_matrix()* recebe como entrada os rótulos do teste (y_test) e a predição do modelo (y_pred). Ela retorna uma matriz CxC onde C é a quandidade de classes. No exemplo C=10, logo uma matriz 10x10 onde na diagonal temos os acertos e nas demais posições as confusões entre as classes do problema. A matriz de confusão é usada para avaliar classificador apenas e muito importante para analisarmos os erros do nosso modelo (ou hipótese de solução para o problema).  \n"
      ]
    },
    {
      "cell_type": "code",
      "execution_count": 15,
      "metadata": {
        "colab": {
          "base_uri": "https://localhost:8080/"
        },
        "id": "_vN1HK85emfw",
        "outputId": "9ddf03b6-f58b-410e-e3c3-9c4f2d9a24c8"
      },
      "outputs": [
        {
          "name": "stdout",
          "output_type": "stream",
          "text": [
            "\n",
            "Cross Validation Results 5 folds:\n",
            "Mean Accuracy: 0.65228\n",
            "Mean Std: 0.00619\n",
            "Precision = 0.651 \n",
            "Recall = 0.652 \n",
            "F1 = 0.651 \n",
            "Primeira instância na base de teste foi considerada como da classe: 0\n",
            "Probabilidade de cada classe para a primeira instância:  [0.65562452 0.34437548]\n",
            "Matriz de Confusão:\n",
            "[[12905  5359]\n",
            " [ 5858  8137]]\n"
          ]
        }
      ],
      "source": [
        "\n",
        "# Mostrando a acurácia média e desvio padrão.\n",
        "print(\"\\nCross Validation Results %d folds:\" % T)\n",
        "print(\"Mean Accuracy: %.5f\" % result.mean())\n",
        "print(\"Mean Std: %.5f\" % result.std())\n",
        "\n",
        "# Calculando a predição para cada exemplo de teste\n",
        "y_pred = model_selection.cross_val_predict(clf, X, y, cv=T)\n",
        "\n",
        "# Calculando para cada instância de teste a probabilidade de cada classe\n",
        "predicted_proba=model_selection.cross_val_predict(clf, X, y, cv=T, method='predict_proba')\n",
        "\n",
        "# Calculando a precisão na base de teste\n",
        "precision=precision_score(y, y_pred, average='weighted')\n",
        "print(\"Precision = %.3f \" % precision)\n",
        "\n",
        "# Calculando a revocação na base de teste\n",
        "recall=recall_score(y, y_pred, average='weighted')\n",
        "print(\"Recall = %.3f \" % recall)\n",
        "\n",
        "# Calculando f1 na base de teste\n",
        "f1=f1_score(y, y_pred, average='weighted')\n",
        "print(\"F1 = %.3f \" % f1)\n",
        "\n",
        "# Exemplo mostrando o resultado previsto para a primeira instância de teste\n",
        "print(\"Primeira instância na base de teste foi considerada como da classe: %d\" % y_pred[0])\n",
        "\n",
        "# Exemplo abaixo mostrando para a primeira instância de teste a probabilidade de cada classe\n",
        "print(\"Probabilidade de cada classe para a primeira instância: \", predicted_proba[0])\n",
        "\n",
        "# Calculando a matriz de confusão\n",
        "print(\"Matriz de Confusão:\")\n",
        "matrix = confusion_matrix(y, y_pred)\n",
        "print(matrix)\n",
        "\n",
        "# salvando o modelo \n",
        "from joblib import dump, load\n",
        "with open(\"KNN.mod\", 'wb') as fo:  \n",
        "    dump(clf, fo)"
      ]
    },
    {
      "cell_type": "markdown",
      "metadata": {
        "id": "lMgRPNIMekfU"
      },
      "source": []
    }
  ],
  "metadata": {
    "colab": {
      "provenance": []
    },
    "kernelspec": {
      "display_name": "base",
      "language": "python",
      "name": "python3"
    },
    "language_info": {
      "codemirror_mode": {
        "name": "ipython",
        "version": 3
      },
      "file_extension": ".py",
      "mimetype": "text/x-python",
      "name": "python",
      "nbconvert_exporter": "python",
      "pygments_lexer": "ipython3",
      "version": "3.11.5"
    }
  },
  "nbformat": 4,
  "nbformat_minor": 0
}
